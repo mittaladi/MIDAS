{
 "cells": [
  {
   "cell_type": "code",
   "execution_count": 38,
   "metadata": {},
   "outputs": [
    {
     "name": "stdout",
     "output_type": "stream",
     "text": [
      "Main Start\n",
      "Getting data for -  midasIIITD\n",
      "MIDAS IIITD\n",
      "midasIIITD\n",
      "MIDAS is a group of researchers at IIIT-Delhi who study, analyze, and build different multimedia systems for society leveraging multimodal information.\n",
      "statuses_count: 301\n",
      "friends_count: 39\n",
      "followers_count: 179\n",
      "2018-07-23 11:26:04\n"
     ]
    },
    {
     "ename": "AttributeError",
     "evalue": "'User' object has no attribute 'text'",
     "output_type": "error",
     "traceback": [
      "\u001b[1;31m---------------------------------------------------------------------------\u001b[0m",
      "\u001b[1;31mAttributeError\u001b[0m                            Traceback (most recent call last)",
      "\u001b[1;32m<ipython-input-38-fb6ae4074161>\u001b[0m in \u001b[0;36m<module>\u001b[1;34m\u001b[0m\n\u001b[0;32m     24\u001b[0m \u001b[0mprint\u001b[0m\u001b[1;33m(\u001b[0m\u001b[1;34m\"followers_count: \"\u001b[0m \u001b[1;33m+\u001b[0m \u001b[0mstr\u001b[0m\u001b[1;33m(\u001b[0m\u001b[0mitem\u001b[0m\u001b[1;33m.\u001b[0m\u001b[0mfollowers_count\u001b[0m\u001b[1;33m)\u001b[0m\u001b[1;33m)\u001b[0m\u001b[1;33m\u001b[0m\u001b[1;33m\u001b[0m\u001b[0m\n\u001b[0;32m     25\u001b[0m \u001b[0mprint\u001b[0m\u001b[1;33m(\u001b[0m\u001b[0mitem\u001b[0m\u001b[1;33m.\u001b[0m\u001b[0mcreated_at\u001b[0m\u001b[1;33m)\u001b[0m\u001b[1;33m\u001b[0m\u001b[1;33m\u001b[0m\u001b[0m\n\u001b[1;32m---> 26\u001b[1;33m \u001b[0mprint\u001b[0m\u001b[1;33m(\u001b[0m\u001b[0mitem\u001b[0m\u001b[1;33m.\u001b[0m\u001b[0mtext\u001b[0m\u001b[1;33m)\u001b[0m\u001b[1;33m\u001b[0m\u001b[1;33m\u001b[0m\u001b[0m\n\u001b[0m\u001b[0;32m     27\u001b[0m \u001b[1;33m\u001b[0m\u001b[0m\n\u001b[0;32m     28\u001b[0m \u001b[1;31m#     hashtags = []\u001b[0m\u001b[1;33m\u001b[0m\u001b[1;33m\u001b[0m\u001b[1;33m\u001b[0m\u001b[0m\n",
      "\u001b[1;31mAttributeError\u001b[0m: 'User' object has no attribute 'text'"
     ]
    }
   ],
   "source": [
    "import tweepy as tp\n",
    "import numpy\n",
    "from tweepy import Cursor\n",
    "\n",
    "\n",
    "print(\"Main Start\")\n",
    "apiKey = \"BYlVcsQQtdY1SVkuQAzvUezea\"\n",
    "apiSecretKey = \"9Z9xdX86okjCgISCCAPwP74TVTuZAcmHo3VOEtXyV5ArxHmt1R\"\n",
    "accessToken = \"1108063309415079937-Kn1uhVNQRxcfLO8MJk5HGbQHf6BuTi\"\n",
    "accessTokenSecret = \"ZzckqmZPbFpWyRZMgfJaDtWstpqNwY5GAX7aMInNqeq2A\"\n",
    "\n",
    "auth = tp.OAuthHandler(apiKey,apiSecretKey)\n",
    "auth.set_access_token(accessToken,accessTokenSecret)\n",
    "auth_api = tp.API(auth)\n",
    "#print (auth)\n",
    "username = \"midasIIITD\"\n",
    "print(\"Getting data for - \", username)\n",
    "item = auth_api.get_user(username)\n",
    "print(item.name)\n",
    "print(item.screen_name)\n",
    "print(item.description)\n",
    "print(\"statuses_count: \" + str(item.statuses_count))\n",
    "print(\"friends_count: \" + str(item.friends_count))\n",
    "print(\"followers_count: \" + str(item.followers_count))\n",
    "print(item.created_at)\n",
    "print(item.text)\n",
    "\n",
    "#     hashtags = []\n",
    "#     mentions = []\n",
    "#     tweet_count = 0\n",
    "#     #end_date = datetime.utcnow() - timedelta(days=30)\n",
    "#     for status in Cursor(auth_api.user_timeline, id=username).items():\n",
    "#       tweet_count += 1\n",
    "#       if hasattr(status, \"entities\"):\n",
    "#         entities = status.entities\n",
    "#         if \"hashtags\" in entities:\n",
    "#           for ent in entities[\"hashtags\"]:\n",
    "#             if ent is not None:\n",
    "#               if \"text\" in ent:\n",
    "#                 hashtag = ent[\"text\"]\n",
    "#                 if hashtag is not None:\n",
    "#                   hashtags.append(hashtag)\n",
    "#         if \"user_mentions\" in entities:\n",
    "#           for ent in entities[\"user_mentions\"]:\n",
    "#             if ent is not None:\n",
    "#               if \"screen_name\" in ent:\n",
    "#                 name = ent[\"screen_name\"]\n",
    "#                 if name is not None:\n",
    "#                   mentions.append(name)\n",
    "#     #print(hashtags)\n",
    "# print(tweet_count)\n",
    "#print(mentions)\n",
    "count =0\n",
    "for tweet in item:\n",
    "    print(tweet.text)\n",
    "    count +=1\n",
    "    if(count == 3):\n",
    "        break\n",
    "\n",
    "#     tmp=[]  \n",
    "\n",
    "#     # create array of tweet information: username,  \n",
    "#     # tweet id, date/time, text \n",
    "#     tweets_for_csv = [tweet.text for tweet in item] # CSV file created  \n",
    "#     for j in tweets_for_csv: \n",
    "\n",
    "#         # Appending tweets to the empty array tmp \n",
    "#         tmp.append(j)  \n",
    "\n",
    "#     # Printing the tweets \n",
    "#     print(tmp) \n",
    "\n"
   ]
  },
  {
   "cell_type": "code",
   "execution_count": 40,
   "metadata": {},
   "outputs": [
    {
     "name": "stdout",
     "output_type": "stream",
     "text": [
      "The last date for submitting a solution for the @midasIIITD internship task is 26th March midnight. We will not acc… https://t.co/9BMRhXfqw3\n",
      "RT @IIITDelhi: @IIITDelhi invites application from Foreign Nationals/PIOs/NRIs/OCIs for admission to its https://t.co/u6kIuhIrGM and https:…\n",
      "One more week is left to submit the workshop proposal to @IEEEBigMM19. \n",
      "Looking forward to your submission. For any… https://t.co/MeaYTlKGjg\n",
      "RT @IEEEBigMM19: We are honored to have Dr. Chang Wen Chen (Chinese University Hong Kong @CUHKofficial ) and Dr. Roger Zimmermann (National…\n",
      "RT @IEEEBigMM19: Distinguished researchers Dr. Rajiv Ratn Shah @RatnRajiv (@IIITDelhi , @midasIIITD ), Dr. Jianquan Liu (NEC Japan) and Dr.…\n",
      "@IEEEBigMM19 is also available on Facebook now. \n",
      "LIKE its Facebook page https://t.co/B3Q0zmmzXb  to get the regular… https://t.co/z8tfXY3fHj\n",
      "RT @IEEEBigMM19: BigMM 2019 : IEEE BigMM 2019 – Call for Workshop Proposals  \n",
      "\n",
      "https://t.co/I4vqf8FE6K …  \n",
      "When: Sep 11, 2019 - Sep 13, 201…\n",
      "BigMM 2019 : IEEE BigMM 2019 – Call for Workshop Proposals\n",
      "\n",
      "https://t.co/oUq2G0UgKN\n",
      "\n",
      "When: Sep 11, 2019 - Sep 13, 2… https://t.co/HrZCI4APy9\n",
      "Congratulations @midasIIITD team, Rohan, Pradyumn, Ramit, @debanjanbhucs, @MADAIguy and @RatnRajiv for getting thei… https://t.co/jDCOIOsl1M\n",
      "We have emailed the task details to all shortlisted candidates for @midasIIITD internship. Kindly check the same.… https://t.co/ku8O8HaoOe\n",
      "IEEE BigMM 2019 - Call for Workshop Proposals. \n",
      "\n",
      "Contact @midasIIITD @RatnRajiv @debanjanbhucs if you have any quer… https://t.co/EArExUYJE4\n",
      "Congratulations! Arijit, Ramit, @debanjanbhucs @RatnRajiv for your @NAACLHLT  @naacl SRW 2019 paper, \"Speak Up, Fig… https://t.co/pc6pbJ9Iub\n",
      "We will be releasing a very interesting task to shortlisted candidates for the internship at @midasIIITD today. You… https://t.co/PfjjoTNaWQ\n",
      "RT @hcdiiitd: Last day to register for #PortfolioCreationinDesign Workshop Indraprastha Institute of Information Technology, Delhi on 15th…\n",
      "@ACMMM19 @sigmm @TheOfficialACM @acmmmsys @ACMTVX @ACMICMR @euromm @Benoit_Huet @RatnRajiv @kelkalot \n",
      "We need to cl… https://t.co/ZofTZ3UcvN\n",
      "RT @ACMMM19: The paper deadline is approaching. 1 April abstract is due. Authors will have until 8 April to upload the final PDF version of…\n",
      "RT @kaggle: Bookmark this amazing library of image augmentations 😵 by #Kaggle Masters @AlBuslaev @creaf @viglovikov and @cvtalks | https://…\n",
      "Awesome members of our @midasIIITD team who are working on Humonics projects. Great to have you on our team.… https://t.co/XEkcYO8KmW\n",
      "@saanidhi @ACMMM19 Before Friday, 15th March.\n",
      "We are glad to inform that Adobe is launching Women’s day Tech-Challenge to hire female engineers from 2019 Batch u… https://t.co/vpNJyiuuqZ\n"
     ]
    }
   ],
   "source": [
    "result = auth_api.user_timeline(id=username)\n",
    "for tweet in result:\n",
    "    print(tweet.text)\n",
    "    tweet.d\n"
   ]
  },
  {
   "cell_type": "code",
   "execution_count": null,
   "metadata": {},
   "outputs": [],
   "source": []
  },
  {
   "cell_type": "code",
   "execution_count": null,
   "metadata": {},
   "outputs": [],
   "source": []
  }
 ],
 "metadata": {
  "kernelspec": {
   "display_name": "Python 3",
   "language": "python",
   "name": "python3"
  },
  "language_info": {
   "codemirror_mode": {
    "name": "ipython",
    "version": 3
   },
   "file_extension": ".py",
   "mimetype": "text/x-python",
   "name": "python",
   "nbconvert_exporter": "python",
   "pygments_lexer": "ipython3",
   "version": "3.7.1"
  }
 },
 "nbformat": 4,
 "nbformat_minor": 2
}
