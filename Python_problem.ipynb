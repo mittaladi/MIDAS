{
 "cells": [
  {
   "cell_type": "code",
   "execution_count": 4,
   "metadata": {},
   "outputs": [
    {
     "name": "stdout",
     "output_type": "stream",
     "text": [
      "Main Start\n"
     ]
    }
   ],
   "source": [
    "import tweepy as tp\n",
    "import numpy\n",
    "\n",
    "def main():\n",
    "    print(\"Main Start\")\n",
    "    apiKey = \"BYlVcsQQtdY1SVkuQAzvUezea\"\n",
    "    apiSecretKey = \"9Z9xdX86okjCgISCCAPwP74TVTuZAcmHo3VOEtXyV5ArxHmt1R\"\n",
    "    accessToken = \"1108063309415079937-Kn1uhVNQRxcfLO8MJk5HGbQHf6BuTi\"\n",
    "    accessTokenSecret = \"ZzckqmZPbFpWyRZMgfJaDtWstpqNwY5GAX7aMInNqeq2A\"\n",
    "    \n",
    "    auth = tp.OAuthHandler(apiKey,apiSecretKey)\n",
    "    auth.set_access_token(accessToken,accessTokenSecret)\n",
    "    \n",
    "    \n",
    "    \n",
    "if __name__ == \"__main__\":\n",
    "    main()"
   ]
  },
  {
   "cell_type": "code",
   "execution_count": null,
   "metadata": {},
   "outputs": [],
   "source": []
  }
 ],
 "metadata": {
  "kernelspec": {
   "display_name": "Python 3",
   "language": "python",
   "name": "python3"
  },
  "language_info": {
   "codemirror_mode": {
    "name": "ipython",
    "version": 3
   },
   "file_extension": ".py",
   "mimetype": "text/x-python",
   "name": "python",
   "nbconvert_exporter": "python",
   "pygments_lexer": "ipython3",
   "version": "3.7.1"
  }
 },
 "nbformat": 4,
 "nbformat_minor": 2
}
