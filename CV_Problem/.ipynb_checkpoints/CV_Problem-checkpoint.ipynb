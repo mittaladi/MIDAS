{
 "cells": [
  {
   "cell_type": "markdown",
   "metadata": {},
   "source": [
    "# CV_PROBLEM "
   ]
  },
  {
   "cell_type": "markdown",
   "metadata": {},
   "source": [
    "## IMPORT REQUIRED FILES"
   ]
  },
  {
   "cell_type": "code",
   "execution_count": 112,
   "metadata": {},
   "outputs": [],
   "source": [
    "import pickle\n",
    "import numpy as np\n",
    "from sklearn.linear_model import LogisticRegression\n",
    "from sklearn import naive_bayes as nb\n",
    "import random\n",
    "from sklearn.svm import SVC\n",
    "import csv"
   ]
  },
  {
   "cell_type": "markdown",
   "metadata": {},
   "source": [
    "## LOAD DATA"
   ]
  },
  {
   "cell_type": "code",
   "execution_count": 34,
   "metadata": {},
   "outputs": [],
   "source": [
    "file_train_image = \"train_image.pkl\"\n",
    "file_train_label = \"train_label.pkl\"\n",
    "file_test_image = \"test_image.pkl\"\n",
    "\n",
    "with open(file_train_image , \"rb\") as f:\n",
    "    train_images=pickle.load(f)\n",
    "\n",
    "with open(file_train_label , \"rb\") as f:\n",
    "    train_label=pickle.load(f)\n",
    "\n",
    "\n",
    "with open(file_test_image , \"rb\") as f:\n",
    "    test_images=pickle.load(f)\n",
    "    \n",
    "    "
   ]
  },
  {
   "cell_type": "markdown",
   "metadata": {},
   "source": [
    "## SHUFFLE DATA AND SPLIT DATA"
   ]
  },
  {
   "cell_type": "code",
   "execution_count": 65,
   "metadata": {},
   "outputs": [
    {
     "name": "stdout",
     "output_type": "stream",
     "text": [
      "(6400, 784)\n",
      "(6400,)\n",
      "(1600, 784)\n",
      "(1600,)\n"
     ]
    }
   ],
   "source": [
    "for i in range(0,len(train_images)):\n",
    "    train_images[i].append(train_label[i])\n",
    "\n",
    "random.shuffle(train_images)\n",
    "\n",
    "train_images = np.array(train_images)\n",
    "#train_images\n",
    "print(train_images.shape)\n",
    "\n",
    "dimen = 784\n",
    "y = train_images[:,dimen]\n",
    "x = train_images[:,:dimen]\n",
    "train_size = len(x)\n",
    "train_size = train_size*0.8\n",
    "\n",
    "x_train = x[:int(train_size)]\n",
    "x_test = x[int(train_size):]\n",
    "y_train = y[:int(train_size)]\n",
    "y_test = y[int(train_size):]\n",
    "print(x_train.shape)\n",
    "print(y_train.shape)\n",
    "print(x_test.shape)\n",
    "print(y_test.shape)"
   ]
  },
  {
   "cell_type": "markdown",
   "metadata": {},
   "source": [
    "## TRAINING DATA ON DIFFERENT CLASSIFIERS"
   ]
  },
  {
   "cell_type": "code",
   "execution_count": 68,
   "metadata": {},
   "outputs": [
    {
     "name": "stderr",
     "output_type": "stream",
     "text": [
      "C:\\Users\\MitTal\\Anaconda3\\lib\\site-packages\\sklearn\\linear_model\\logistic.py:433: FutureWarning: Default solver will be changed to 'lbfgs' in 0.22. Specify a solver to silence this warning.\n",
      "  FutureWarning)\n",
      "C:\\Users\\MitTal\\Anaconda3\\lib\\site-packages\\sklearn\\linear_model\\logistic.py:460: FutureWarning: Default multi_class will be changed to 'auto' in 0.22. Specify the multi_class option to silence this warning.\n",
      "  \"this warning.\", FutureWarning)\n",
      "C:\\Users\\MitTal\\Anaconda3\\lib\\site-packages\\sklearn\\svm\\base.py:922: ConvergenceWarning: Liblinear failed to converge, increase the number of iterations.\n",
      "  \"the number of iterations.\", ConvergenceWarning)\n",
      "C:\\Users\\MitTal\\Anaconda3\\lib\\site-packages\\sklearn\\svm\\base.py:196: FutureWarning: The default value of gamma will change from 'auto' to 'scale' in version 0.22 to account better for unscaled features. Set gamma explicitly to 'auto' or 'scale' to avoid this warning.\n",
      "  \"avoid this warning.\", FutureWarning)\n"
     ]
    }
   ],
   "source": [
    "naive_clf = nb.GaussianNB().fit(x_train,y_train)\n",
    "\n",
    "logis_clf = LogisticRegression().fit(x_train , y_train)\n",
    "\n",
    "svm_clf = SVC(decision_function_shape='ovo').fit(x_train,y_train)"
   ]
  },
  {
   "cell_type": "markdown",
   "metadata": {},
   "source": [
    "## CHECKING ACCURACIES ON DIFFERENT CLASSIFIERS"
   ]
  },
  {
   "cell_type": "code",
   "execution_count": 69,
   "metadata": {},
   "outputs": [
    {
     "name": "stdout",
     "output_type": "stream",
     "text": [
      "accuracy for naive bayes 0.64\n",
      "accuracy for logistic regression 0.750625\n",
      "accuracy for support vector machine 0.245625\n"
     ]
    }
   ],
   "source": [
    "naive_accuracy = naive_clf.score(x_test,y_test)\n",
    "print('accuracy for naive bayes' , naive_accuracy)\n",
    "\n",
    "logis_accuracy = logis_clf.score(x_test,y_test)\n",
    "print('accuracy for logistic regression' , logis_accuracy)\n",
    "\n",
    "svm_accuracy = svm_clf.score(x_test,y_test)\n",
    "print('accuracy for support vector machine' , svm_accuracy)"
   ]
  },
  {
   "cell_type": "markdown",
   "metadata": {},
   "source": [
    "## PREDICTING TEST LABELS WITH BEST CLASSIFIER"
   ]
  },
  {
   "cell_type": "code",
   "execution_count": 81,
   "metadata": {},
   "outputs": [],
   "source": [
    "final_clf = LogisticRegression().fit(x, train_label)\n",
    "\n",
    "prediction = final_clf.predict(test_images)"
   ]
  },
  {
   "cell_type": "markdown",
   "metadata": {},
   "source": [
    "## DUMPING DATA TO CSV"
   ]
  },
  {
   "cell_type": "code",
   "execution_count": 134,
   "metadata": {},
   "outputs": [],
   "source": [
    "index=[]\n",
    "for i in range(0,len(test_images)):\n",
    "    index.append(i)\n",
    "\n",
    "index = np.array(index)\n",
    "\n",
    "final_list=[]\n",
    "final_list.append(index)\n",
    "final_list.append(prediction)\n",
    "final_list = np.array(final_list)\n",
    "final_list= final_list.T\n",
    "\n",
    "np.savetxt(\"Aditya_Mittal.csv\",final_list,delimiter=',' , fmt = \"%d\")"
   ]
  },
  {
   "cell_type": "code",
   "execution_count": null,
   "metadata": {},
   "outputs": [],
   "source": []
  }
 ],
 "metadata": {
  "kernelspec": {
   "display_name": "Python 3",
   "language": "python",
   "name": "python3"
  },
  "language_info": {
   "codemirror_mode": {
    "name": "ipython",
    "version": 3
   },
   "file_extension": ".py",
   "mimetype": "text/x-python",
   "name": "python",
   "nbconvert_exporter": "python",
   "pygments_lexer": "ipython3",
   "version": "3.7.1"
  }
 },
 "nbformat": 4,
 "nbformat_minor": 2
}
